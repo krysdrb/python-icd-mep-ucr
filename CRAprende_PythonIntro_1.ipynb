{
  "nbformat": 4,
  "nbformat_minor": 0,
  "metadata": {
    "colab": {
      "provenance": [],
      "toc_visible": true,
      "include_colab_link": true
    },
    "kernelspec": {
      "name": "python3",
      "display_name": "Python 3"
    },
    "language_info": {
      "name": "python"
    }
  },
  "cells": [
    {
      "cell_type": "markdown",
      "metadata": {
        "id": "view-in-github",
        "colab_type": "text"
      },
      "source": [
        "<a href=\"https://colab.research.google.com/github/krysdrb/python-icd-mep-ucr/blob/main/CRAprende_PythonIntro_1.ipynb\" target=\"_parent\"><img src=\"https://colab.research.google.com/assets/colab-badge.svg\" alt=\"Open In Colab\"/></a>"
      ]
    },
    {
      "cell_type": "markdown",
      "source": [
        "# Parte 1 - Presentación"
      ],
      "metadata": {
        "id": "9Alxl7eFYpN1"
      }
    },
    {
      "cell_type": "markdown",
      "source": [
        "<img src=\"https://drive.google.com/uc?export=view&id=1aAEWDg9RU_rrL7ryZOsl2utlTlRqr97f\" alt=\"Intro\" style=\"height: 100px; width:100px;\"/>\n"
      ],
      "metadata": {
        "id": "ua3KeboKaQ30"
      }
    },
    {
      "cell_type": "markdown",
      "metadata": {
        "id": "wduphuUWf4fV"
      },
      "source": [
        "## Descripción\n",
        "\n",
        "Este curso fue creado como parte del proyecto de Acción Social de Universidad de Costa Rica llamado \"__Costa Rica Aprende con la U Pública__\".\n",
        "\n",
        "Este es un curso introductorio para el lenguaje de programación `Python`. Para participar en este curso, no es necesario tener conocimiento previo en ningún lenguaje de programación.\n",
        "\n",
        "El curso se llevará a cabo mediante 6 sesiones virtuales sincrónicas. En cada sesión se presentarán diversos temas sobre el lenguaje de programación `Python`. El curso es 100% práctico y se espera que todas las personas estudiantes realicen las actividades que están preparadas para cada sesión. Es necesario tener una computadora con acceso a internet para sacar el máximo provecho al curso.\n",
        "\n",
        "### Docentes del curso:\n",
        "\n",
        "- Dra. Kryscia Ramírez Benavides\n",
        "- Dr. Luis Quesada Quirós\n",
        "- Dr. Allan Berrocal Rojas\n",
        "\n",
        "### Créditos\n",
        "\n",
        "Esta presentación utiliza algunos materiales disponibles en internet. Se hace mención en general a los siguientes cursos:\n",
        "- [Curso básico de Python - Sergio Paredes](https://github.com/sergioparedesv/curso-basico-python)\n",
        "- [Python para principiantes - Lorena Ceballos](https://github.com/LceballosE/Python-para-Principiantes)\n",
        "- [Introducción a Python - Insituto Humai, Argentina](https://github.com/institutohumai/cursos-python/tree/master/Introduccion)\n",
        "\n",
        "\n",
        "### Otros recursos de consulta\n",
        "\n",
        "- [Python para principiantes](https://uniwebsidad.com/libros/python)\n",
        "- [Algoritmos de Programación con Python](https://uniwebsidad.com/libros/algoritmos-python)\n",
        "---"
      ]
    },
    {
      "cell_type": "markdown",
      "metadata": {
        "id": "UY6MfICPf4fW"
      },
      "source": [
        "## Agenda\n",
        "\n",
        "__Semana 1__\n",
        "\n",
        "1. Preparación del entorno de desarrollo\n",
        "1. Introducción al lenguaje de programación\n",
        "1. Variables y tipos de datos\n",
        "\n",
        "__Semana 2__\n",
        "1. Estructuras de datos: Listas\n",
        "1. Estructuras de control: condicionales y ciclos\n",
        "1. Operaciones aritméticas y lógicas\n",
        "\n",
        "__Semana 3__\n",
        "1. Procesamiento de cadenas de texto\n",
        "1. Entradas y salidas\n",
        "1. Funciones\n",
        "\n",
        "__Semana 4__\n",
        "1. Depuración y manejos de errores\n",
        "1. Uso de bibliotecas\n",
        "\n",
        "__Semana 5__\n",
        "1. Ejercicios prácticos\n",
        "1. Resolución de problemas\n",
        "1. Asignación de retos finales\n",
        "\n",
        "__Semana 6__\n",
        "1. Presentación de resultados\n",
        "1. Cierre del curso\n",
        "\n",
        "---\n"
      ]
    },
    {
      "cell_type": "markdown",
      "metadata": {
        "id": "_yUeefYQf4fZ"
      },
      "source": [
        "# Parte 2 - El lenguaje de programación\n",
        "---"
      ]
    },
    {
      "cell_type": "markdown",
      "source": [
        "## Introducción"
      ],
      "metadata": {
        "id": "GDLOwrOty-vf"
      }
    },
    {
      "cell_type": "markdown",
      "metadata": {
        "jupyter": {
          "source_hidden": true
        },
        "id": "CTT2dnnOf4fa"
      },
      "source": [
        "Para conocer un poco de la historia de `Python` puede consultar [esta página](https://es.wikipedia.org/wiki/Historia_de_Python). La creación del lenguaje de le atribuye a [Guido van Rossum](https://es.wikipedia.org/wiki/Guido_van_Rossum) un informático Holandés.\n",
        "\n",
        "Algunas características de `Python`\n",
        "- Es un lenguaje de programación interpretado. Es decir el código de un programa escrito en `Python` no es compilado sino que es leído o interpretado por otro programa (intérprete de `Python`) que se encarga de producir las instrucciones de más bajo nivel que debe realizar el computador.\n",
        "- Es dinámicamente tipado. Es decir, las variables pueden tomar valores de distintos tipos.\n",
        "- Como lenguaje pasó por la versión 1.x, 2.x, y actualmente se encuentra en la versión 3.10.x.\n",
        "- Es uno de los lenguajes de programación más utilizados en la actualidad para diversas aplicaciones.\n",
        "\n",
        "Se puede encontrar más información sobre el lenguaje en su página oficial [python.org](https://www.python.org/).\n",
        "\n",
        "Para propósitos de aprendizaje, puede utilizar este intérprete de `Python` que se encuentra el línea [Programiz.com](https://www.programiz.com/python-programming/online-compiler/)"
      ]
    },
    {
      "cell_type": "markdown",
      "metadata": {
        "jupyter": {
          "source_hidden": true
        },
        "id": "RH5MiZ5tf4fb"
      },
      "source": [
        "## Reglas de Python\n",
        "- Evitar espacios blancos extras\n",
        "- Comentarios en una línea (#Comentario de una línea)\n",
        "- Comentarios en múltiples líneas  (\"\"\"Comentario multilínea líneas\"\"\")\n",
        "- Identación: La identación es un término que hace referencia en darle jerarquía al código."
      ]
    },
    {
      "cell_type": "markdown",
      "metadata": {
        "jupyter": {
          "source_hidden": true
        },
        "id": "sPlonvj8f4ff"
      },
      "source": [
        "## Primer programa\n",
        "\n",
        "En la celda de abajo escriba lo siguiente:\n",
        "\n",
        "``print(\"Hola mundo\")``\n",
        "\n",
        "Luego dar clic en el ícono para ejecutar la celda."
      ]
    },
    {
      "cell_type": "code",
      "execution_count": null,
      "metadata": {
        "jupyter": {
          "source_hidden": true
        },
        "id": "D1jr2M4uf4fh",
        "colab": {
          "base_uri": "https://localhost:8080/"
        },
        "outputId": "91ec655a-c52c-4439-e889-fb94d281be4a"
      },
      "outputs": [
        {
          "output_type": "stream",
          "name": "stdout",
          "text": [
            "Hola Mundo\n"
          ]
        }
      ],
      "source": [
        "print(\"Hola Mundo\")"
      ]
    },
    {
      "cell_type": "code",
      "execution_count": null,
      "metadata": {
        "jupyter": {
          "source_hidden": true
        },
        "id": "EWIbdeOqf4fj",
        "colab": {
          "base_uri": "https://localhost:8080/"
        },
        "outputId": "545aebad-789f-4a54-a986-ef76f54b25c5"
      },
      "outputs": [
        {
          "output_type": "stream",
          "name": "stdout",
          "text": [
            "9\n"
          ]
        }
      ],
      "source": [
        "a = 5\n",
        "b = 4\n",
        "resultado = a+b\n",
        "print(resultado)"
      ]
    },
    {
      "cell_type": "markdown",
      "metadata": {
        "id": "tz9cBZUpdLVZ",
        "jupyter": {
          "source_hidden": true
        }
      },
      "source": [
        "<div class=\"alert alert-success\" role=\"alert\">\n",
        "  Perfecto, es hora de saludar a alguien, en mi caso a <b>Ana</b>\n",
        "</div>"
      ]
    },
    {
      "cell_type": "code",
      "source": [],
      "metadata": {
        "id": "kqK8EiN5-aTt"
      },
      "execution_count": null,
      "outputs": []
    },
    {
      "cell_type": "markdown",
      "metadata": {
        "id": "goKOjBHrdLVZ",
        "jupyter": {
          "source_hidden": true
        }
      },
      "source": [
        "## Ejemplo"
      ]
    },
    {
      "cell_type": "code",
      "execution_count": null,
      "metadata": {
        "jupyter": {
          "source_hidden": true
        },
        "id": "pv1fbTl-UvDI",
        "colab": {
          "base_uri": "https://localhost:8080/"
        },
        "outputId": "cd94b927-4e0a-444e-f02d-f62781d83118"
      },
      "outputs": [
        {
          "output_type": "stream",
          "name": "stdout",
          "text": [
            "Hola Ana\n"
          ]
        }
      ],
      "source": [
        "print(\"Hola Ana\") # Perfecto, da clic en Run y observa lo que ocurre."
      ]
    },
    {
      "cell_type": "markdown",
      "metadata": {
        "jupyter": {
          "source_hidden": true
        },
        "id": "zv6W5q21UvDT"
      },
      "source": [
        "¿Por qué el contenido del (#Perfecto, haz clic en Run y observa lo que ocurre.) no aparece en la salida?\n",
        "\n",
        "Naturalmente los comentarios son solo para los programadores, los usuarios finales no pueden verlos."
      ]
    },
    {
      "cell_type": "code",
      "execution_count": null,
      "metadata": {
        "jupyter": {
          "source_hidden": true
        },
        "id": "I0iYP0rAUvDT",
        "colab": {
          "base_uri": "https://localhost:8080/",
          "height": 53
        },
        "outputId": "4baed91c-0be3-4e56-f580-5a4488871d19"
      },
      "outputs": [
        {
          "output_type": "stream",
          "name": "stdout",
          "text": [
            "Hola Alberto\n"
          ]
        },
        {
          "output_type": "execute_result",
          "data": {
            "text/plain": [
              "'Pero este sí?, realmente no aparece para el usuario final, solo para el programador'"
            ],
            "application/vnd.google.colaboratory.intrinsic+json": {
              "type": "string"
            }
          },
          "metadata": {},
          "execution_count": 4
        }
      ],
      "source": [
        "print(\"Hola Alberto\")\n",
        "'''Pero este sí?, realmente no aparece para el usuario final, solo para el programador'''"
      ]
    },
    {
      "cell_type": "markdown",
      "metadata": {
        "jupyter": {
          "source_hidden": true
        },
        "id": "U6-p9NF0UvDU"
      },
      "source": [
        "<div  id=\"d\" class=\"jumbotron jumbotron-fluid\">\n",
        "  <div class=\"container\">\n",
        "    <h5 class=\"display-4\">Operaciones aritméticas básicas</h5>\n",
        "      <p class=\"lead\">En las celdas de abajo, escriba en cada una operaciones que corresponde, luego presione<b> (shift+enter)</b> para ejecutar el script, o bien haga clic en el botón de ejecutar la celda.</p>\n",
        "  </div>\n",
        "</div>"
      ]
    },
    {
      "cell_type": "markdown",
      "metadata": {
        "jupyter": {
          "source_hidden": true
        },
        "id": "XBbmYlNbUvDU"
      },
      "source": [
        "<p class=\"lead\">1. Suma (2+2) </p>"
      ]
    },
    {
      "cell_type": "code",
      "execution_count": null,
      "metadata": {
        "jupyter": {
          "source_hidden": true
        },
        "id": "UvtP4o2HUvDU",
        "colab": {
          "base_uri": "https://localhost:8080/"
        },
        "outputId": "df8186bd-4697-430f-a6d2-dfa3805bfcce"
      },
      "outputs": [
        {
          "output_type": "stream",
          "name": "stdout",
          "text": [
            "4\n"
          ]
        }
      ],
      "source": [
        "a = 2\n",
        "b = 2\n",
        "resultado = a + b\n",
        "print(resultado)"
      ]
    },
    {
      "cell_type": "markdown",
      "metadata": {
        "jupyter": {
          "source_hidden": true
        },
        "id": "qDbIK1vvUvDU"
      },
      "source": [
        "<p class=\"lead\">2. Resta (2-2) </p>"
      ]
    },
    {
      "cell_type": "code",
      "execution_count": null,
      "metadata": {
        "jupyter": {
          "source_hidden": true
        },
        "id": "7iVAqe9gUvDU",
        "colab": {
          "base_uri": "https://localhost:8080/"
        },
        "outputId": "37c7fa4b-4a95-4889-f879-2090c2c89364"
      },
      "outputs": [
        {
          "output_type": "stream",
          "name": "stdout",
          "text": [
            "0\n"
          ]
        }
      ],
      "source": [
        "a = 2\n",
        "b = 2\n",
        "resultado = a - b\n",
        "print(resultado)"
      ]
    },
    {
      "cell_type": "markdown",
      "metadata": {
        "jupyter": {
          "source_hidden": true
        },
        "id": "54zDxfTaUvDV"
      },
      "source": [
        "<p class=\"lead\">3. Multiplicación (2*3) </p>"
      ]
    },
    {
      "cell_type": "code",
      "execution_count": null,
      "metadata": {
        "jupyter": {
          "source_hidden": true
        },
        "id": "ns_O4LvzUvDV",
        "colab": {
          "base_uri": "https://localhost:8080/"
        },
        "outputId": "f3514954-c9ca-49ec-d89a-3a1a68d46790"
      },
      "outputs": [
        {
          "output_type": "stream",
          "name": "stdout",
          "text": [
            "6\n"
          ]
        }
      ],
      "source": [
        "a = 2\n",
        "b = 3\n",
        "resultado = a * b\n",
        "print(resultado)"
      ]
    },
    {
      "cell_type": "markdown",
      "metadata": {
        "jupyter": {
          "source_hidden": true
        },
        "id": "6DjCqtrqUvDV"
      },
      "source": [
        "<p class=\"lead\">4. Divisiones (2/2) </p>"
      ]
    },
    {
      "cell_type": "code",
      "execution_count": null,
      "metadata": {
        "jupyter": {
          "source_hidden": true
        },
        "id": "LVdod_vsUvDV",
        "colab": {
          "base_uri": "https://localhost:8080/"
        },
        "outputId": "40afc0b5-8895-432c-ff0c-79168cf6d064"
      },
      "outputs": [
        {
          "output_type": "stream",
          "name": "stdout",
          "text": [
            "1.0\n"
          ]
        }
      ],
      "source": [
        "a = 2\n",
        "b = 2\n",
        "resultado = a / b\n",
        "print(resultado)"
      ]
    },
    {
      "cell_type": "markdown",
      "metadata": {
        "jupyter": {
          "source_hidden": true
        },
        "id": "N-2lIQSOUvDW"
      },
      "source": [
        "<p class=\"lead\">5. Potencia (2**3) </p>"
      ]
    },
    {
      "cell_type": "code",
      "execution_count": null,
      "metadata": {
        "jupyter": {
          "source_hidden": true
        },
        "id": "Nr5SAGOxUvDW",
        "colab": {
          "base_uri": "https://localhost:8080/"
        },
        "outputId": "1d1d55e4-64ea-45fa-db7e-8c9f6ef9f7d3"
      },
      "outputs": [
        {
          "output_type": "stream",
          "name": "stdout",
          "text": [
            "8\n"
          ]
        }
      ],
      "source": [
        "a = 2\n",
        "b = 3\n",
        "resultado = a ** b\n",
        "print(resultado)"
      ]
    },
    {
      "cell_type": "markdown",
      "metadata": {
        "jupyter": {
          "source_hidden": true
        },
        "id": "PQ6uISbyUvDW"
      },
      "source": [
        "<p class=\"lead\">6. Raiz (4**(1/2)) </p>"
      ]
    },
    {
      "cell_type": "code",
      "execution_count": null,
      "metadata": {
        "jupyter": {
          "source_hidden": true
        },
        "id": "5Z3PRKg4UvDW",
        "colab": {
          "base_uri": "https://localhost:8080/"
        },
        "outputId": "65ce30b9-892b-4a8f-a3ec-dafe7fff855b"
      },
      "outputs": [
        {
          "output_type": "stream",
          "name": "stdout",
          "text": [
            "2.0\n"
          ]
        }
      ],
      "source": [
        "a = 4\n",
        "b = 1/2\n",
        "resultado = a ** b\n",
        "print(resultado)"
      ]
    },
    {
      "cell_type": "markdown",
      "metadata": {
        "jupyter": {
          "source_hidden": true
        },
        "id": "9ZbGRFxCUvDW"
      },
      "source": [
        "<p class=\"lead\">7. Operaciones: 2+5*3 </p>"
      ]
    },
    {
      "cell_type": "code",
      "execution_count": null,
      "metadata": {
        "jupyter": {
          "source_hidden": true
        },
        "id": "zsFTGw-xUvDW",
        "colab": {
          "base_uri": "https://localhost:8080/"
        },
        "outputId": "a8311b56-9a7f-43c0-affe-40c55fad349e"
      },
      "outputs": [
        {
          "output_type": "stream",
          "name": "stdout",
          "text": [
            "17\n"
          ]
        }
      ],
      "source": [
        "a = 2\n",
        "b = 5\n",
        "c = 3\n",
        "resultado = a + b *c\n",
        "print(resultado)"
      ]
    },
    {
      "cell_type": "markdown",
      "metadata": {
        "jupyter": {
          "source_hidden": true
        },
        "id": "gN-_1oeyUvDX"
      },
      "source": [
        "<p class=\"lead\">8. Operaciones: 2+2**4 </p>"
      ]
    },
    {
      "cell_type": "code",
      "execution_count": null,
      "metadata": {
        "jupyter": {
          "source_hidden": true
        },
        "id": "DnGpSoVpUvDX",
        "colab": {
          "base_uri": "https://localhost:8080/"
        },
        "outputId": "0b500e8c-f984-4418-d200-42c9e0c530c7"
      },
      "outputs": [
        {
          "output_type": "stream",
          "name": "stdout",
          "text": [
            "18\n"
          ]
        }
      ],
      "source": [
        "a = 2\n",
        "b = 2\n",
        "c = 4\n",
        "resultado = a + b **c\n",
        "print(resultado)"
      ]
    },
    {
      "cell_type": "markdown",
      "metadata": {
        "jupyter": {
          "source_hidden": true
        },
        "id": "pbSHkpMuUvDX"
      },
      "source": [
        "Si nota que las operaciones dan resultados que no esperaba, no se preocupe. No es un error de Python.\n",
        "Se nos enseña a hacer operaciones de derecha a izquierda, pero en realidad las operaciones van de más complejas a menos\n",
        "complejas. Por eso resuelve primero las potencias o raíces, luego multiplicaciones y finalmente las sumas y restas."
      ]
    },
    {
      "cell_type": "markdown",
      "metadata": {
        "id": "v7imx2DLf4fp"
      },
      "source": [
        "# Parte 3 - Variables y tipos de datos\n",
        "---"
      ]
    },
    {
      "cell_type": "markdown",
      "source": [
        "## Definición\n",
        "\n",
        "En los lenguajes de programacón, una variable le permite hacer referencia a un valor con un nombre.\n",
        "Por ejemplo\n",
        "\n",
        "`x = 5`\n",
        "\n",
        "Ahora puede utilizar el nombre de la variable, `x` en lugar del valor real, `5`. Recuerde, el símbolo `=` en `Python` significa asignación, No prueba igualdad.\n"
      ],
      "metadata": {
        "id": "4XlHHk6mzViT"
      }
    },
    {
      "cell_type": "markdown",
      "metadata": {
        "id": "G2R-FZIMf4fp"
      },
      "source": [
        "## ¿Por qué variables?\n",
        "\n",
        "Imagine un programa para calcular el IMC (índice de masa corporal) de una persona. Este indicador se calcula a partir de las variables altura y peso. Si desea calcular el IMC para varias personas, simplemente puede cambiar el valor de las variables peso y altura y volver a realizar el cálculo. El IMC cambia en consecuencia, porque el valor del peso variable también ha cambiado."
      ]
    },
    {
      "cell_type": "code",
      "execution_count": null,
      "metadata": {
        "id": "wkNap12mf4fp",
        "colab": {
          "base_uri": "https://localhost:8080/"
        },
        "outputId": "bcc3bdc8-c3f3-411b-f864-4bbce61557e4"
      },
      "outputs": [
        {
          "output_type": "stream",
          "name": "stdout",
          "text": [
            "139.4\n",
            "139.4\n"
          ]
        }
      ],
      "source": [
        "altura = 180.5\n",
        "peso = 69.7\n",
        "\n",
        "imc = peso / altura *2\n",
        "\n",
        "print(imc)\n",
        "\n",
        "print(peso / altura *2)\n",
        "\n",
        "\n",
        "primerNombre = \"Allan\""
      ]
    },
    {
      "cell_type": "markdown",
      "metadata": {
        "id": "2UigBKJ5f4fq"
      },
      "source": [
        "## Nombres de variables\n",
        "\n",
        "Se recomienda utilizar nombres descriptivos y en minúsculas. Para nombres compuestos, es usual separar las palabras por guiones bajos (por ejemplo, `primer_nombre`), o juntar palabras utilizando mayúsculas para la primera letra de la segunda palabra en adelante (por ejemplo, `primerNombre`).\n",
        "\n",
        "En `Python` los nombres de variables no pueden comenzar con números, ni con muchos símbolos especiales como `/&*()#!>` entre otros. El uso de guión bajo `_` sí es permitido.\n",
        "\n",
        "Antes y después del signo `=` debe haber un (1) solo un espacio en blanco. Por ejemplo:\n",
        "\n",
        "`primerNombre = Marta`\n",
        "\n",
        "Los lenguajes de programación tienen restricciones en cuanto al nombre que puede tener una variable. A esto se le conoce como palabras reservadas, es decir, son reservadas para el lenguaje. Si se utilizan como nombres de variables el programa genera un error. En `Python`, algunas de estas palabras son las siguientes:\n",
        "\n",
        "```\n",
        "and\n",
        "continue\n",
        "else\n",
        "for\n",
        "import\n",
        "not\n",
        "raise\n",
        "assert\n",
        "def\n",
        "except\n",
        "from\n",
        "in\n",
        "or\n",
        "return\n",
        "break\n",
        "del\n",
        "exec\n",
        "global\n",
        "is\n",
        "pass\n",
        "try\n",
        "class\n",
        "elif\n",
        "finally\n",
        "if\n",
        "lambda\n",
        "print\n",
        "```\n",
        "\n",
        "Intente utilizar una palabra reservada como nombre de una variable."
      ]
    },
    {
      "cell_type": "code",
      "execution_count": null,
      "metadata": {
        "id": "H-B8GyNlf4fq",
        "colab": {
          "base_uri": "https://localhost:8080/",
          "height": 131
        },
        "outputId": "cc6f1394-47d4-48db-90bb-bc6ab7e722a3"
      },
      "outputs": [
        {
          "output_type": "error",
          "ename": "SyntaxError",
          "evalue": "ignored",
          "traceback": [
            "\u001b[0;36m  File \u001b[0;32m\"<ipython-input-2-ed55d338b5c6>\"\u001b[0;36m, line \u001b[0;32m1\u001b[0m\n\u001b[0;31m    class = 2\u001b[0m\n\u001b[0m          ^\u001b[0m\n\u001b[0;31mSyntaxError\u001b[0m\u001b[0;31m:\u001b[0m invalid syntax\n"
          ]
        }
      ],
      "source": [
        "class = 2"
      ]
    },
    {
      "cell_type": "markdown",
      "metadata": {
        "id": "L_QsE_e6f4fq"
      },
      "source": [
        "Note que las palabras reservadas generalmente cambian de color cuando estamos escribiendo código fuente en un editor de texto que reconoce el lenguaje de programación.\n",
        "\n",
        "La variable anterior `class` está en verde, pero la siguiente no lo está. Eso nos ayuda a saber si un nombre es un palabra reservada del lenguaje."
      ]
    },
    {
      "cell_type": "code",
      "execution_count": null,
      "metadata": {
        "id": "_ffV5UIyf4fq"
      },
      "outputs": [],
      "source": [
        "clase = 2"
      ]
    },
    {
      "cell_type": "markdown",
      "metadata": {
        "id": "vHPnesFcf4fq"
      },
      "source": [
        "## Tipos de variables\n",
        "\n",
        "Existen distintos tipos de variables. El tipo de una variable nos da una idea de los posibles valores que esta puede tomar. Veamos algunas.\n",
        "\n",
        "- `int`: entero\n",
        "- `float`: punto flotante\n",
        "- `str`: cadena de caracteres\n",
        "- `bool`: booleano, 0, 1, True o False\n",
        "\n",
        "Y estructuras de datos, como:\n",
        "\n",
        "- `list`: lista de elementos (de cualquier tipo, incluida otra lista)\n",
        "- `dict`: \"diccionario\", conjunto de pares llave:valor\n",
        "\n",
        "Algunos ejemplos:"
      ]
    },
    {
      "cell_type": "code",
      "execution_count": null,
      "metadata": {
        "id": "rA03p4Pcf4fq"
      },
      "outputs": [],
      "source": [
        "edad = 40\n",
        "peso = 3.4\n",
        "saludo ='Hola mundo!'\n",
        "condicion = True"
      ]
    },
    {
      "cell_type": "markdown",
      "metadata": {
        "id": "u2my6qXYf4fr"
      },
      "source": [
        "A continuación utilice la función `print(X)` para imprimir el contenido de las variables que creó anteriormente."
      ]
    },
    {
      "cell_type": "code",
      "execution_count": null,
      "metadata": {
        "id": "zIcHxmeRf4fr",
        "colab": {
          "base_uri": "https://localhost:8080/"
        },
        "outputId": "a6c7c36f-3354-45b4-948f-58550b2a85a4"
      },
      "outputs": [
        {
          "output_type": "stream",
          "name": "stdout",
          "text": [
            "gato\n"
          ]
        }
      ],
      "source": [
        "# imprimir distintos tipos de variables\n",
        "\n",
        "mascota = \"gato\"\n",
        "print(mascota)"
      ]
    },
    {
      "cell_type": "markdown",
      "metadata": {
        "id": "HFYzdXwFf4fr"
      },
      "source": [
        "La función `type()` nos permite conocer el tipo de una variable. Ejemplo:"
      ]
    },
    {
      "cell_type": "code",
      "execution_count": null,
      "metadata": {
        "id": "Ixtb5-T8f4fy",
        "colab": {
          "base_uri": "https://localhost:8080/"
        },
        "outputId": "1a641625-60e8-436b-9ee0-2dba734c7145"
      },
      "outputs": [
        {
          "output_type": "execute_result",
          "data": {
            "text/plain": [
              "float"
            ]
          },
          "metadata": {},
          "execution_count": 22
        }
      ],
      "source": [
        "type(peso)"
      ]
    },
    {
      "cell_type": "markdown",
      "metadata": {
        "id": "HaGJ2oDWf4fz"
      },
      "source": [
        "A continuación utilice la función `type(X)` para imprimir el tipo de las variables que creó anteriormente."
      ]
    },
    {
      "cell_type": "code",
      "execution_count": null,
      "metadata": {
        "id": "mkfzP35Lf4fz"
      },
      "outputs": [],
      "source": []
    },
    {
      "cell_type": "markdown",
      "metadata": {
        "id": "o37BedFaf4fz"
      },
      "source": [
        "## Conversión de variables\n",
        "\n",
        "Algunas variables pueden cambiar de tipo. A esto le llamamos convertir una variable de su tipo original a otro tipo destino. Veamos ejemplos"
      ]
    },
    {
      "cell_type": "code",
      "execution_count": null,
      "metadata": {
        "id": "R80N5HuRf4fz"
      },
      "outputs": [],
      "source": [
        "edad = 20         # tipo int e.g. años\n",
        "peso = 65.8       # tipo float e.g. kilogramos\n",
        "mes = \"agosto\"    # tipo string e.g. mes\n",
        "esDeNoche = False # tipo bool"
      ]
    },
    {
      "cell_type": "code",
      "execution_count": null,
      "metadata": {
        "id": "0MsrDnFAf4fz",
        "colab": {
          "base_uri": "https://localhost:8080/"
        },
        "outputId": "bf6d7c8e-5c2c-4b9d-86cc-5ed3494a1bf9"
      },
      "outputs": [
        {
          "output_type": "execute_result",
          "data": {
            "text/plain": [
              "int"
            ]
          },
          "metadata": {},
          "execution_count": 24
        }
      ],
      "source": [
        "type(edad)"
      ]
    },
    {
      "cell_type": "markdown",
      "metadata": {
        "id": "Xe5rFXAhf4f0"
      },
      "source": [
        "Es posible cambiar el tipo de una variable. Por ejemplo, convertir una una variable `float` a `int`, etc.\n",
        "El lenjuage dispone de ciertas funciones para realizar la conversión. Algunos ejemplos:\n",
        "\n",
        "- `int()` Convierte a entero\n",
        "- `float()` Convierte a flotante\n",
        "- `str()` Convierte a string\n",
        "\n"
      ]
    },
    {
      "cell_type": "code",
      "execution_count": null,
      "metadata": {
        "id": "k6PE2-0Ff4f0",
        "colab": {
          "base_uri": "https://localhost:8080/"
        },
        "outputId": "392e5619-9ecc-4c9c-8b48-124f7ece1ee9"
      },
      "outputs": [
        {
          "output_type": "execute_result",
          "data": {
            "text/plain": [
              "float"
            ]
          },
          "metadata": {},
          "execution_count": 25
        }
      ],
      "source": [
        "edad = float(edad)\n",
        "type(edad)"
      ]
    },
    {
      "cell_type": "code",
      "execution_count": null,
      "metadata": {
        "id": "KZe-0juif4f0",
        "colab": {
          "base_uri": "https://localhost:8080/"
        },
        "outputId": "cf308fcb-a417-4979-854c-b658f2553cc2"
      },
      "outputs": [
        {
          "output_type": "execute_result",
          "data": {
            "text/plain": [
              "int"
            ]
          },
          "metadata": {},
          "execution_count": 26
        }
      ],
      "source": [
        "peso = int(peso)\n",
        "type(peso)"
      ]
    },
    {
      "cell_type": "code",
      "execution_count": null,
      "metadata": {
        "id": "1DvQ9A-tf4f0",
        "colab": {
          "base_uri": "https://localhost:8080/"
        },
        "outputId": "8294e9e9-7c66-4b8f-b36d-db48071904a5"
      },
      "outputs": [
        {
          "output_type": "execute_result",
          "data": {
            "text/plain": [
              "str"
            ]
          },
          "metadata": {},
          "execution_count": 27
        }
      ],
      "source": [
        "mes = str(edad)\n",
        "type(mes)"
      ]
    },
    {
      "cell_type": "markdown",
      "metadata": {
        "id": "JPFxPa-zf4f1"
      },
      "source": [
        "Note que ahora la variable `peso` es de tipo `int`, por ende, no puede almacenar un número con decimales. Anteriormente la variable `peso` tenía el valor `65.8`. Imprima la variable `peso` después de convertirla a `int` y note como su valor a cambiado."
      ]
    },
    {
      "cell_type": "code",
      "execution_count": null,
      "metadata": {
        "id": "DUCTBDrVf4f1",
        "colab": {
          "base_uri": "https://localhost:8080/"
        },
        "outputId": "1755c1b2-724e-431b-bc4c-f498b3c1187a"
      },
      "outputs": [
        {
          "output_type": "stream",
          "name": "stdout",
          "text": [
            "65\n"
          ]
        }
      ],
      "source": [
        "print(peso)"
      ]
    },
    {
      "cell_type": "markdown",
      "metadata": {
        "id": "YnYaL_VQf4f1"
      },
      "source": [
        "En programación se debe tener cuidado con la transformación de variables para evitar errores en los programas."
      ]
    },
    {
      "cell_type": "markdown",
      "metadata": {
        "id": "l_gKs2qif4f1"
      },
      "source": [
        "La siguiente función de conversión se comporta de manera especial.\n",
        "\n",
        "- `bool()`\n",
        "\n",
        "Por ejemplo, en esta línea\n",
        "\n",
        "`edad = bool(edad)`\n",
        "\n",
        "Convierte la variable `edad` a tipo `bool`.\n",
        "\n",
        "Y en esta línea\n",
        "\n",
        "`bool(edad)`\n",
        "\n",
        "Examina el valor de la variable `edad` y retorna `False` si su valor es cero, y retorna `True` en cualquier otros caso.\n",
        "\n"
      ]
    },
    {
      "cell_type": "code",
      "execution_count": null,
      "metadata": {
        "id": "K7E3tP3zf4f1",
        "colab": {
          "base_uri": "https://localhost:8080/"
        },
        "outputId": "f5dd76ad-8283-4436-927c-cac50fa47986"
      },
      "outputs": [
        {
          "output_type": "execute_result",
          "data": {
            "text/plain": [
              "True"
            ]
          },
          "metadata": {},
          "execution_count": 29
        }
      ],
      "source": [
        "bool(edad)"
      ]
    },
    {
      "cell_type": "code",
      "source": [
        "x = 10\n",
        "if ( 1 < x < 5):\n",
        "  print(\"Sí\")\n",
        "else:\n",
        "  print(\"No\")"
      ],
      "metadata": {
        "colab": {
          "base_uri": "https://localhost:8080/"
        },
        "id": "S3Ji-Oc96Ff8",
        "outputId": "ce0a8118-2835-48c0-ce2f-298d18311d82"
      },
      "execution_count": null,
      "outputs": [
        {
          "output_type": "stream",
          "name": "stdout",
          "text": [
            "No\n"
          ]
        }
      ]
    }
  ]
}